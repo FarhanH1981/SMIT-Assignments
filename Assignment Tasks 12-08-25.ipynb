{
 "cells": [
  {
   "cell_type": "code",
   "execution_count": 2,
   "id": "d8348bb8-9db3-473f-a196-bfe08bf3e104",
   "metadata": {},
   "outputs": [
    {
     "name": "stdout",
     "output_type": "stream",
     "text": [
      "HarryPotter by J.K Rowling\n"
     ]
    },
    {
     "data": {
      "text/plain": [
       "'HarryPotter by J.K Rowling'"
      ]
     },
     "execution_count": 2,
     "metadata": {},
     "output_type": "execute_result"
    }
   ],
   "source": [
    "#1. String Representation Practice.\n",
    "#Create a Book class with title, author, and pages.\n",
    "#Implement:\n",
    "#_str_() → returns \"Title by Author\".\n",
    "#_repr_() → returns a dev-friendly string with all details.\n",
    "\n",
    "class Book():\n",
    "    def __init__(self,title,author,pages):\n",
    "        self.title = title\n",
    "        self.author = author\n",
    "        self.pages = pages\n",
    "    def __str__(self):\n",
    "        return f\"{self.title} by {self.author}\"\n",
    "    def __repr__(self):\n",
    "        return f\"Book(title= '{self.title}', author= '{self.author}', pages= '{self.pages}')\"\n",
    "obj = Book(\"HarryPotter\", \"J.K Rowling\", 300)\n",
    "print(obj)\n",
    "str(obj)\n",
    "    "
   ]
  },
  {
   "cell_type": "code",
   "execution_count": 23,
   "id": "9061509d-0d58-449d-b560-162e5bcf6c35",
   "metadata": {},
   "outputs": [
    {
     "name": "stdout",
     "output_type": "stream",
     "text": [
      "3\n"
     ]
    }
   ],
   "source": [
    "#2. Custom Addition\n",
    "#Create a Vector class with x and y coordinates.\n",
    "#Implement _add_() so two vectors can be added using +.\n",
    "#Length Override\n",
    "\n",
    "class Vector():\n",
    "    def __init__(self, x, y):\n",
    "        self.x = x\n",
    "        self.y = y\n",
    "    def __add__(self, other):\n",
    "        return Vector(self.x+other.x,self.y+other.y)\n",
    "    def __str__(self):\n",
    "        return f\"({self.x} , {self.y})\"\n",
    "    def __len__(self):\n",
    "        return int( (self.x**2 + self.y**2) ** 0.5 )\n",
    "V1 = Vector(3,5)\n",
    "V2 =Vector(2,3)\n",
    "result = V1 + V2\n",
    "print(len(V2))\n",
    "\n",
    "        "
   ]
  },
  {
   "cell_type": "code",
   "execution_count": 31,
   "id": "a8a61b05-bd13-465a-923c-e10bef6a9647",
   "metadata": {},
   "outputs": [
    {
     "name": "stdout",
     "output_type": "stream",
     "text": [
      "3\n"
     ]
    }
   ],
   "source": [
    "#3. Create a Playlist class with a list of songs.\n",
    "#Implement _len_() so len(playlist) returns number of songs.\n",
    "\n",
    "class Playlist():\n",
    "    def __init__(self,songs):\n",
    "        self.songs = songs\n",
    "    def __len__(self):\n",
    "        return len(self.songs)\n",
    "playlist =  Playlist([\"TumBin\", \"DhakDhak\", \"Jiyajalay\"])\n",
    "\n",
    "print(len(playlist))"
   ]
  },
  {
   "cell_type": "code",
   "execution_count": 2,
   "id": "3fddda9b-1eac-47ec-b330-183c6c3ea5f2",
   "metadata": {},
   "outputs": [
    {
     "name": "stdout",
     "output_type": "stream",
     "text": [
      "True\n"
     ]
    }
   ],
   "source": [
    "#4. Comparison Operators\n",
    "#Create a Student class with name and marks.\n",
    "#Implement _gt() and __lt_() to compare based on marks.\n",
    "\n",
    "class Student():\n",
    "    name = None\n",
    "    marks = None\n",
    "    def __init__(self,name,marks):\n",
    "        self.name = name\n",
    "        self.marks = marks\n",
    "    def __gt__(self,other):\n",
    "        return self.marks > other.marks\n",
    "    def __lt__(self,other):\n",
    "        return self.marks < other.marks\n",
    "s1 = Student(\"Ali\", 90)\n",
    "s2 = Student(\"Farhan\", 92)\n",
    "result = s1 < s2\n",
    "print(result)\n",
    "\n",
    "\n",
    "        "
   ]
  },
  {
   "cell_type": "code",
   "execution_count": 9,
   "id": "4d819519-faa0-42d5-9ca3-a7d3c2a14bdf",
   "metadata": {},
   "outputs": [
    {
     "name": "stdout",
     "output_type": "stream",
     "text": [
      "Ronaldo\n",
      "Yoro\n"
     ]
    }
   ],
   "source": [
    "#5. Create a Team class that stores player names.\n",
    "#Implement _getitem() and __setitem_() to get/set players like a list.\n",
    "class Team():\n",
    "    def __init__(self,players):\n",
    "        self.players = players\n",
    "    def __getitem__(self,index):\n",
    "        return self.players[index]\n",
    "    def __setitem__(self, index, value):\n",
    "        self.players[index] = value\n",
    "team = Team([\"Ronaldo\", \"Beckham\", \"Messi\"])\n",
    "print(team[0])\n",
    "team[2] = \"Yoro\"\n",
    "print(team[2])"
   ]
  },
  {
   "cell_type": "code",
   "execution_count": null,
   "id": "0562ec4d-0dee-49fb-b9b2-6303dd547aa7",
   "metadata": {},
   "outputs": [],
   "source": []
  }
 ],
 "metadata": {
  "kernelspec": {
   "display_name": "Python 3 (ipykernel)",
   "language": "python",
   "name": "python3"
  },
  "language_info": {
   "codemirror_mode": {
    "name": "ipython",
    "version": 3
   },
   "file_extension": ".py",
   "mimetype": "text/x-python",
   "name": "python",
   "nbconvert_exporter": "python",
   "pygments_lexer": "ipython3",
   "version": "3.13.3"
  }
 },
 "nbformat": 4,
 "nbformat_minor": 5
}
