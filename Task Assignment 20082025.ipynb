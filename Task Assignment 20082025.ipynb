{
 "cells": [
  {
   "cell_type": "code",
   "execution_count": 1,
   "id": "a32eb661-728b-4a99-a290-5fec5e7d2c5e",
   "metadata": {},
   "outputs": [
    {
     "name": "stdout",
     "output_type": "stream",
     "text": [
      "Final Total: 2268.0\n",
      "All orders created: 1\n"
     ]
    }
   ],
   "source": [
    "import csv\n",
    "from datetime import datetime as dt\n",
    "\n",
    "def logger(func):\n",
    "    def wrapper(*args, **kwargs):\n",
    "        with open(\"log.txt\", \"a\") as log_file:\n",
    "            log_file.write(f\"[{dt.now()}] '{func.__name__}' is called...\\n\")\n",
    "        return func(*args, **kwargs)\n",
    "    return wrapper\n",
    "\n",
    "\n",
    "class Order:\n",
    "    orders = []  \n",
    "    discount_rate = 0\n",
    "\n",
    "    def __init__(self):\n",
    "        self.items = []\n",
    "        Order.orders.append(self) \n",
    "\n",
    "    def log(self, message):\n",
    "        with open(\"log.txt\", \"a\") as f:\n",
    "            f.write(f\"[{dt.now()}] {message}\\n\")\n",
    "\n",
    "    @logger\n",
    "    def add_item_by_id(self, product_id, quantity):\n",
    "        if not Order.is_valid_product_id(product_id):\n",
    "            self.log(f\"Invalid product ID attempt: {product_id}\")\n",
    "            return\n",
    "\n",
    "        with open(\"products.csv\", \"r\") as f:\n",
    "            reader = csv.DictReader(f)\n",
    "            for row in reader:\n",
    "                if row[\"id\"] == str(product_id):\n",
    "                    total_price = int(row[\"price\"]) * quantity\n",
    "                    self.items.append(total_price)\n",
    "                    self.log(f\"Added item: {row['name']} (x{quantity}) - Total: {total_price}\")\n",
    "                    return\n",
    "\n",
    "    @logger\n",
    "    def calculate_total(self):\n",
    "        total = sum(self.items)\n",
    "        if Order.discount_rate > 0:\n",
    "            total -= (total * Order.discount_rate / 100)\n",
    "        self.log(f\"Calculated total with discount: {total}\")\n",
    "        return total\n",
    "\n",
    "    @classmethod\n",
    "    @logger\n",
    "    def set_discount(cls, discount_rate):\n",
    "        cls.discount_rate = discount_rate\n",
    "        cls.log_static(f\"Discount set to {discount_rate}%\")\n",
    "\n",
    "    @staticmethod\n",
    "    def is_valid_product_id(product_id):\n",
    "        with open(\"products.csv\", \"r\") as f:\n",
    "            reader = csv.DictReader(f)\n",
    "            for row in reader:\n",
    "                if row[\"id\"] == str(product_id):\n",
    "                    return True\n",
    "        return False\n",
    "\n",
    "    @staticmethod\n",
    "    def log_static(message):\n",
    "        with open(\"log.txt\", \"a\") as f:\n",
    "            f.write(f\"[{dt.now()}] {message}\\n\")\n",
    "\n",
    "\n",
    "\n",
    "order1 = Order()\n",
    "order1.add_item_by_id(1, 2)  \n",
    "order1.add_item_by_id(4, 3)   \n",
    "order1.add_item_by_id(99, 1) \n",
    "Order.set_discount(10)\n",
    "print(\"Final Total:\", order1.calculate_total())\n",
    "\n",
    "print(\"All orders created:\", len(Order.orders)) \n"
   ]
  },
  {
   "cell_type": "code",
   "execution_count": null,
   "id": "5d294b78-a3bf-4064-a1bd-9ceabf82401e",
   "metadata": {},
   "outputs": [],
   "source": []
  }
 ],
 "metadata": {
  "kernelspec": {
   "display_name": "Python 3 (ipykernel)",
   "language": "python",
   "name": "python3"
  },
  "language_info": {
   "codemirror_mode": {
    "name": "ipython",
    "version": 3
   },
   "file_extension": ".py",
   "mimetype": "text/x-python",
   "name": "python",
   "nbconvert_exporter": "python",
   "pygments_lexer": "ipython3",
   "version": "3.13.3"
  }
 },
 "nbformat": 4,
 "nbformat_minor": 5
}
