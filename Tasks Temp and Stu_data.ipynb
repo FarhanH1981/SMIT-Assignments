{
 "cells": [
  {
   "cell_type": "raw",
   "id": "0e20740e-f23b-417d-b553-fdc9127ba4f7",
   "metadata": {},
   "source": [
    "Task 1.\n",
    "temps = np.array([\n",
    "    [30, 32, 31, 29, 28, 27, 26],   # City A\n",
    "    [22, 21, 23, 24, 25, 26, 24],   # City B\n",
    "    [15, 17, 16, 18, 19, 20, 21]    # City C\n",
    "])\n",
    "1. Find the maximum temperature recorded in City A.\n",
    "2.On which day was the temperature highest across all cities?\n",
    "3.Compare City A and City B – which one is generally warmer?\n"
   ]
  },
  {
   "cell_type": "code",
   "execution_count": 1,
   "id": "73b64977-8e6a-4de9-932d-927d1ef41918",
   "metadata": {},
   "outputs": [],
   "source": [
    "import numpy as np"
   ]
  },
  {
   "cell_type": "code",
   "execution_count": 11,
   "id": "c2d83538-3398-4fc3-bf72-85461e16639c",
   "metadata": {},
   "outputs": [
    {
     "name": "stdout",
     "output_type": "stream",
     "text": [
      "Maximum Temprature recorded in City A was 32°C on Tuesday\n",
      "Maximum Temperature across all cities was 32°C in City A on Tuesday\n",
      "City A is warmer on average\n"
     ]
    }
   ],
   "source": [
    "temps = [[\"Monday\", \"Tuesday\", \"Wednesday\", \"Thursday\", \"Friday\", \"Saturday\", \"Sunday\"],\n",
    "    [30, 32, 31, 29, 28, 27, 26],   \n",
    "    [22, 21, 23, 24, 25, 26, 24],   \n",
    "    [15, 17, 16, 18, 19, 20, 21]]\n",
    "Days = temps.pop(0)\n",
    "temps = np.array(temps)\n",
    "maxtemp_Day = temps[0].max()\n",
    "day_index = temps[0].argmax()\n",
    "print(f\"Maximum Temprature recorded in City A was {maxtemp_Day}°C on {Days[day_index]}\" )\n",
    "maxtemp_Day = temps.argmax()\n",
    "cities = [\"City A\", \"City B\", \"City C\"]\n",
    "rows, cols = temps.shape\n",
    "row_index = maxtemp_Day // cols\n",
    "col_index = maxtemp_Day % cols \n",
    "max_value = temps.max()\n",
    "print(f\"Maximum Temperature across all cities was {max_value}°C in {cities[row_index]} on {Days[col_index]}\")\n",
    "avg_temps = [np.mean(city) for city in temps]\n",
    "max_index = np.argmax(avg_temps)\n",
    "print(f\"{cities[max_index]} is warmer on average\")\n",
    "\n",
    "    \n",
    "\n",
    "\n"
   ]
  },
  {
   "cell_type": "raw",
   "id": "c50fa826-a26b-4b68-a4c8-3095f600904f",
   "metadata": {},
   "source": [
    "Task 2. \n",
    "Student_data = {\"st-1\":{\"Maths\":85,\"Urdu\":70,\"Sindhi\":40,\"Chemistry\":90,\"Physics\":60},\n",
    "               \"st-2\":{\"Maths\":70,\"Urdu\":75,\"Sindhi\":40,\"Chemistry\":90,\"Physics\":60},\n",
    "               \"st-3\":{\"Maths\":80,\"Urdu\":70,\"Sindhi\":95,\"Chemistry\":90,\"Physics\":60},\n",
    "               \"st-4\":{\"Maths\":80,\"Urdu\":70,\"Sindhi\":50,\"Chemistry\":85,\"Physics\":60},\n",
    "               \"st-5\":{\"Maths\":80,\"Urdu\":75,\"Sindhi\":40,\"Chemistry\":90,\"Physics\":60}}\n",
    "1. Find Max and Min marks in every subject with StudentID.\n",
    "2. Find Max and Min marks of every student with subject name.\n",
    "3. Rank students on their total marks."
   ]
  },
  {
   "cell_type": "code",
   "execution_count": 4,
   "id": "88cf0485-5a39-401a-a9db-d56f30ace245",
   "metadata": {},
   "outputs": [
    {
     "name": "stdout",
     "output_type": "stream",
     "text": [
      "Rank: 3\n",
      "StudentID: st-1\n",
      "Max Subject: Chemistry\n",
      "Max Marks: 90\n",
      "**********\n",
      "Rank: 4\n",
      "StudentID: st-2\n",
      "Max Subject: Chemistry\n",
      "Max Marks: 90\n",
      "**********\n",
      "Rank: 0\n",
      "StudentID: st-3\n",
      "Max Subject: Sindhi\n",
      "Max Marks: 95\n",
      "**********\n",
      "Rank: 2\n",
      "StudentID: st-4\n",
      "Max Subject: Chemistry\n",
      "Max Marks: 85\n",
      "**********\n",
      "Rank: 1\n",
      "StudentID: st-5\n",
      "Max Subject: Chemistry\n",
      "Max Marks: 90\n",
      "**********\n"
     ]
    }
   ],
   "source": [
    "Student_data = {\n",
    "    \"st-1\": {\"Maths\": 85, \"Urdu\": 70, \"Sindhi\": 40, \"Chemistry\": 90, \"Physics\": 60},\n",
    "    \"st-2\": {\"Maths\": 70, \"Urdu\": 75, \"Sindhi\": 40, \"Chemistry\": 90, \"Physics\": 60},\n",
    "    \"st-3\": {\"Maths\": 80, \"Urdu\": 70, \"Sindhi\": 95, \"Chemistry\": 90, \"Physics\": 60},\n",
    "    \"st-4\": {\"Maths\": 80, \"Urdu\": 70, \"Sindhi\": 50, \"Chemistry\": 85, \"Physics\": 60},\n",
    "    \"st-5\": {\"Maths\": 80, \"Urdu\": 75, \"Sindhi\": 40, \"Chemistry\": 90, \"Physics\": 60}\n",
    "}\n",
    "\n",
    "student_array = np.array([list(marks.values()) for marks in Student_data.values()])\n",
    "student_ids = np.array([ids for ids in Student_data])\n",
    "subjects = np.array([list(subject.keys()) for subject in Student_data.values()][0])\n",
    "total_marks = student_array.sum(axis = 1)\n",
    "ranking = total_marks.argsort()[::-1]\n",
    "max_sub_student = student_array.argmax(axis =1)\n",
    "for index, student in enumerate(student_array):\n",
    "    for r_index, rank in enumerate(ranking):\n",
    "        if rank == index:\n",
    "            print(f\"Rank: {r_index*1}\")\n",
    "            print(f\"StudentID: {student_ids[index]}\")\n",
    "            max_sub = max_sub_student[index]\n",
    "            print(f\"Max Subject: {subjects[max_sub]}\\nMax Marks: {student[max_sub]}\")\n",
    "            print(\"*\"*10)"
   ]
  },
  {
   "cell_type": "code",
   "execution_count": null,
   "id": "e52b76e9-955b-4634-b0a8-50ae4a0c9b1d",
   "metadata": {},
   "outputs": [],
   "source": []
  }
 ],
 "metadata": {
  "kernelspec": {
   "display_name": "Python 3 (ipykernel)",
   "language": "python",
   "name": "python3"
  },
  "language_info": {
   "codemirror_mode": {
    "name": "ipython",
    "version": 3
   },
   "file_extension": ".py",
   "mimetype": "text/x-python",
   "name": "python",
   "nbconvert_exporter": "python",
   "pygments_lexer": "ipython3",
   "version": "3.13.3"
  }
 },
 "nbformat": 4,
 "nbformat_minor": 5
}
